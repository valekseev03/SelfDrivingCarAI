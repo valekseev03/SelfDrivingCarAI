{
  "cells": [
    {
      "cell_type": "code",
      "execution_count": null,
      "metadata": {
        "id": "UXGADzeAt0sY",
        "outputId": "8422eb11-7159-4b32-ecf1-163fa5bbf899"
      },
      "outputs": [
        {
          "name": "stderr",
          "output_type": "stream",
          "text": [
            "Using TensorFlow backend.\n"
          ]
        }
      ],
      "source": [
        "from keras import Sequential, layers, models\n",
        "import pandas as pd\n",
        "from PIL import Image\n",
        "import numpy as np\n",
        "import random\n",
        "from tqdm import tqdm\n",
        "import time"
      ]
    },
    {
      "cell_type": "code",
      "execution_count": null,
      "metadata": {
        "id": "aWbaNmUtt0sa"
      },
      "outputs": [],
      "source": [
        "textData = pd.read_csv(\"C:/Users/user/AI Class/datadatadata/driving_log.csv\")"
      ]
    },
    {
      "cell_type": "code",
      "execution_count": null,
      "metadata": {
        "id": "Ce-kZAgxt0sb"
      },
      "outputs": [],
      "source": [
        "textData.columns = ['center','left','right','x1','x2','x3','x4']"
      ]
    },
    {
      "cell_type": "code",
      "execution_count": null,
      "metadata": {
        "id": "oTaoC-30t0sb",
        "outputId": "8472b3c2-d003-45e9-a2a2-116a452b2937"
      },
      "outputs": [
        {
          "data": {
            "text/html": [
              "<div>\n",
              "<style scoped>\n",
              "    .dataframe tbody tr th:only-of-type {\n",
              "        vertical-align: middle;\n",
              "    }\n",
              "\n",
              "    .dataframe tbody tr th {\n",
              "        vertical-align: top;\n",
              "    }\n",
              "\n",
              "    .dataframe thead th {\n",
              "        text-align: right;\n",
              "    }\n",
              "</style>\n",
              "<table border=\"1\" class=\"dataframe\">\n",
              "  <thead>\n",
              "    <tr style=\"text-align: right;\">\n",
              "      <th></th>\n",
              "      <th>center</th>\n",
              "      <th>left</th>\n",
              "      <th>right</th>\n",
              "      <th>x1</th>\n",
              "      <th>x2</th>\n",
              "      <th>x3</th>\n",
              "      <th>x4</th>\n",
              "    </tr>\n",
              "  </thead>\n",
              "  <tbody>\n",
              "    <tr>\n",
              "      <th>0</th>\n",
              "      <td>C:\\Users\\user\\AI Class\\datadatadata\\IMG\\center...</td>\n",
              "      <td>C:\\Users\\user\\AI Class\\datadatadata\\IMG\\left_2...</td>\n",
              "      <td>C:\\Users\\user\\AI Class\\datadatadata\\IMG\\right_...</td>\n",
              "      <td>0.00</td>\n",
              "      <td>0.000000</td>\n",
              "      <td>0.0</td>\n",
              "      <td>1.636400</td>\n",
              "    </tr>\n",
              "    <tr>\n",
              "      <th>1</th>\n",
              "      <td>C:\\Users\\user\\AI Class\\datadatadata\\IMG\\center...</td>\n",
              "      <td>C:\\Users\\user\\AI Class\\datadatadata\\IMG\\left_2...</td>\n",
              "      <td>C:\\Users\\user\\AI Class\\datadatadata\\IMG\\right_...</td>\n",
              "      <td>0.00</td>\n",
              "      <td>0.000000</td>\n",
              "      <td>0.0</td>\n",
              "      <td>1.626524</td>\n",
              "    </tr>\n",
              "    <tr>\n",
              "      <th>2</th>\n",
              "      <td>C:\\Users\\user\\AI Class\\datadatadata\\IMG\\center...</td>\n",
              "      <td>C:\\Users\\user\\AI Class\\datadatadata\\IMG\\left_2...</td>\n",
              "      <td>C:\\Users\\user\\AI Class\\datadatadata\\IMG\\right_...</td>\n",
              "      <td>0.00</td>\n",
              "      <td>0.000000</td>\n",
              "      <td>0.0</td>\n",
              "      <td>1.613449</td>\n",
              "    </tr>\n",
              "    <tr>\n",
              "      <th>3</th>\n",
              "      <td>C:\\Users\\user\\AI Class\\datadatadata\\IMG\\center...</td>\n",
              "      <td>C:\\Users\\user\\AI Class\\datadatadata\\IMG\\left_2...</td>\n",
              "      <td>C:\\Users\\user\\AI Class\\datadatadata\\IMG\\right_...</td>\n",
              "      <td>0.00</td>\n",
              "      <td>0.180978</td>\n",
              "      <td>0.0</td>\n",
              "      <td>1.711842</td>\n",
              "    </tr>\n",
              "    <tr>\n",
              "      <th>4</th>\n",
              "      <td>C:\\Users\\user\\AI Class\\datadatadata\\IMG\\center...</td>\n",
              "      <td>C:\\Users\\user\\AI Class\\datadatadata\\IMG\\left_2...</td>\n",
              "      <td>C:\\Users\\user\\AI Class\\datadatadata\\IMG\\right_...</td>\n",
              "      <td>0.00</td>\n",
              "      <td>0.397435</td>\n",
              "      <td>0.0</td>\n",
              "      <td>1.919822</td>\n",
              "    </tr>\n",
              "    <tr>\n",
              "      <th>5</th>\n",
              "      <td>C:\\Users\\user\\AI Class\\datadatadata\\IMG\\center...</td>\n",
              "      <td>C:\\Users\\user\\AI Class\\datadatadata\\IMG\\left_2...</td>\n",
              "      <td>C:\\Users\\user\\AI Class\\datadatadata\\IMG\\right_...</td>\n",
              "      <td>0.00</td>\n",
              "      <td>0.603803</td>\n",
              "      <td>0.0</td>\n",
              "      <td>2.394652</td>\n",
              "    </tr>\n",
              "    <tr>\n",
              "      <th>6</th>\n",
              "      <td>C:\\Users\\user\\AI Class\\datadatadata\\IMG\\center...</td>\n",
              "      <td>C:\\Users\\user\\AI Class\\datadatadata\\IMG\\left_2...</td>\n",
              "      <td>C:\\Users\\user\\AI Class\\datadatadata\\IMG\\right_...</td>\n",
              "      <td>0.00</td>\n",
              "      <td>0.858385</td>\n",
              "      <td>0.0</td>\n",
              "      <td>3.122741</td>\n",
              "    </tr>\n",
              "    <tr>\n",
              "      <th>7</th>\n",
              "      <td>C:\\Users\\user\\AI Class\\datadatadata\\IMG\\center...</td>\n",
              "      <td>C:\\Users\\user\\AI Class\\datadatadata\\IMG\\left_2...</td>\n",
              "      <td>C:\\Users\\user\\AI Class\\datadatadata\\IMG\\right_...</td>\n",
              "      <td>0.00</td>\n",
              "      <td>1.000000</td>\n",
              "      <td>0.0</td>\n",
              "      <td>3.800794</td>\n",
              "    </tr>\n",
              "    <tr>\n",
              "      <th>8</th>\n",
              "      <td>C:\\Users\\user\\AI Class\\datadatadata\\IMG\\center...</td>\n",
              "      <td>C:\\Users\\user\\AI Class\\datadatadata\\IMG\\left_2...</td>\n",
              "      <td>C:\\Users\\user\\AI Class\\datadatadata\\IMG\\right_...</td>\n",
              "      <td>0.20</td>\n",
              "      <td>1.000000</td>\n",
              "      <td>0.0</td>\n",
              "      <td>4.729679</td>\n",
              "    </tr>\n",
              "    <tr>\n",
              "      <th>9</th>\n",
              "      <td>C:\\Users\\user\\AI Class\\datadatadata\\IMG\\center...</td>\n",
              "      <td>C:\\Users\\user\\AI Class\\datadatadata\\IMG\\left_2...</td>\n",
              "      <td>C:\\Users\\user\\AI Class\\datadatadata\\IMG\\right_...</td>\n",
              "      <td>0.00</td>\n",
              "      <td>1.000000</td>\n",
              "      <td>0.0</td>\n",
              "      <td>5.418929</td>\n",
              "    </tr>\n",
              "    <tr>\n",
              "      <th>10</th>\n",
              "      <td>C:\\Users\\user\\AI Class\\datadatadata\\IMG\\center...</td>\n",
              "      <td>C:\\Users\\user\\AI Class\\datadatadata\\IMG\\left_2...</td>\n",
              "      <td>C:\\Users\\user\\AI Class\\datadatadata\\IMG\\right_...</td>\n",
              "      <td>0.00</td>\n",
              "      <td>1.000000</td>\n",
              "      <td>0.0</td>\n",
              "      <td>6.340760</td>\n",
              "    </tr>\n",
              "    <tr>\n",
              "      <th>11</th>\n",
              "      <td>C:\\Users\\user\\AI Class\\datadatadata\\IMG\\center...</td>\n",
              "      <td>C:\\Users\\user\\AI Class\\datadatadata\\IMG\\left_2...</td>\n",
              "      <td>C:\\Users\\user\\AI Class\\datadatadata\\IMG\\right_...</td>\n",
              "      <td>0.00</td>\n",
              "      <td>1.000000</td>\n",
              "      <td>0.0</td>\n",
              "      <td>7.027904</td>\n",
              "    </tr>\n",
              "    <tr>\n",
              "      <th>12</th>\n",
              "      <td>C:\\Users\\user\\AI Class\\datadatadata\\IMG\\center...</td>\n",
              "      <td>C:\\Users\\user\\AI Class\\datadatadata\\IMG\\left_2...</td>\n",
              "      <td>C:\\Users\\user\\AI Class\\datadatadata\\IMG\\right_...</td>\n",
              "      <td>0.00</td>\n",
              "      <td>1.000000</td>\n",
              "      <td>0.0</td>\n",
              "      <td>7.937892</td>\n",
              "    </tr>\n",
              "    <tr>\n",
              "      <th>13</th>\n",
              "      <td>C:\\Users\\user\\AI Class\\datadatadata\\IMG\\center...</td>\n",
              "      <td>C:\\Users\\user\\AI Class\\datadatadata\\IMG\\left_2...</td>\n",
              "      <td>C:\\Users\\user\\AI Class\\datadatadata\\IMG\\right_...</td>\n",
              "      <td>0.00</td>\n",
              "      <td>1.000000</td>\n",
              "      <td>0.0</td>\n",
              "      <td>8.840814</td>\n",
              "    </tr>\n",
              "    <tr>\n",
              "      <th>14</th>\n",
              "      <td>C:\\Users\\user\\AI Class\\datadatadata\\IMG\\center...</td>\n",
              "      <td>C:\\Users\\user\\AI Class\\datadatadata\\IMG\\left_2...</td>\n",
              "      <td>C:\\Users\\user\\AI Class\\datadatadata\\IMG\\right_...</td>\n",
              "      <td>0.00</td>\n",
              "      <td>1.000000</td>\n",
              "      <td>0.0</td>\n",
              "      <td>9.513362</td>\n",
              "    </tr>\n",
              "    <tr>\n",
              "      <th>15</th>\n",
              "      <td>C:\\Users\\user\\AI Class\\datadatadata\\IMG\\center...</td>\n",
              "      <td>C:\\Users\\user\\AI Class\\datadatadata\\IMG\\left_2...</td>\n",
              "      <td>C:\\Users\\user\\AI Class\\datadatadata\\IMG\\right_...</td>\n",
              "      <td>0.15</td>\n",
              "      <td>1.000000</td>\n",
              "      <td>0.0</td>\n",
              "      <td>10.398250</td>\n",
              "    </tr>\n",
              "    <tr>\n",
              "      <th>16</th>\n",
              "      <td>C:\\Users\\user\\AI Class\\datadatadata\\IMG\\center...</td>\n",
              "      <td>C:\\Users\\user\\AI Class\\datadatadata\\IMG\\left_2...</td>\n",
              "      <td>C:\\Users\\user\\AI Class\\datadatadata\\IMG\\right_...</td>\n",
              "      <td>0.30</td>\n",
              "      <td>1.000000</td>\n",
              "      <td>0.0</td>\n",
              "      <td>11.038760</td>\n",
              "    </tr>\n",
              "    <tr>\n",
              "      <th>17</th>\n",
              "      <td>C:\\Users\\user\\AI Class\\datadatadata\\IMG\\center...</td>\n",
              "      <td>C:\\Users\\user\\AI Class\\datadatadata\\IMG\\left_2...</td>\n",
              "      <td>C:\\Users\\user\\AI Class\\datadatadata\\IMG\\right_...</td>\n",
              "      <td>0.00</td>\n",
              "      <td>1.000000</td>\n",
              "      <td>0.0</td>\n",
              "      <td>11.932740</td>\n",
              "    </tr>\n",
              "    <tr>\n",
              "      <th>18</th>\n",
              "      <td>C:\\Users\\user\\AI Class\\datadatadata\\IMG\\center...</td>\n",
              "      <td>C:\\Users\\user\\AI Class\\datadatadata\\IMG\\left_2...</td>\n",
              "      <td>C:\\Users\\user\\AI Class\\datadatadata\\IMG\\right_...</td>\n",
              "      <td>0.00</td>\n",
              "      <td>1.000000</td>\n",
              "      <td>0.0</td>\n",
              "      <td>12.325670</td>\n",
              "    </tr>\n",
              "    <tr>\n",
              "      <th>19</th>\n",
              "      <td>C:\\Users\\user\\AI Class\\datadatadata\\IMG\\center...</td>\n",
              "      <td>C:\\Users\\user\\AI Class\\datadatadata\\IMG\\left_2...</td>\n",
              "      <td>C:\\Users\\user\\AI Class\\datadatadata\\IMG\\right_...</td>\n",
              "      <td>0.00</td>\n",
              "      <td>1.000000</td>\n",
              "      <td>0.0</td>\n",
              "      <td>13.345820</td>\n",
              "    </tr>\n",
              "    <tr>\n",
              "      <th>20</th>\n",
              "      <td>C:\\Users\\user\\AI Class\\datadatadata\\IMG\\center...</td>\n",
              "      <td>C:\\Users\\user\\AI Class\\datadatadata\\IMG\\left_2...</td>\n",
              "      <td>C:\\Users\\user\\AI Class\\datadatadata\\IMG\\right_...</td>\n",
              "      <td>0.00</td>\n",
              "      <td>1.000000</td>\n",
              "      <td>0.0</td>\n",
              "      <td>14.084310</td>\n",
              "    </tr>\n",
              "    <tr>\n",
              "      <th>21</th>\n",
              "      <td>C:\\Users\\user\\AI Class\\datadatadata\\IMG\\center...</td>\n",
              "      <td>C:\\Users\\user\\AI Class\\datadatadata\\IMG\\left_2...</td>\n",
              "      <td>C:\\Users\\user\\AI Class\\datadatadata\\IMG\\right_...</td>\n",
              "      <td>0.00</td>\n",
              "      <td>1.000000</td>\n",
              "      <td>0.0</td>\n",
              "      <td>14.877940</td>\n",
              "    </tr>\n",
              "    <tr>\n",
              "      <th>22</th>\n",
              "      <td>C:\\Users\\user\\AI Class\\datadatadata\\IMG\\center...</td>\n",
              "      <td>C:\\Users\\user\\AI Class\\datadatadata\\IMG\\left_2...</td>\n",
              "      <td>C:\\Users\\user\\AI Class\\datadatadata\\IMG\\right_...</td>\n",
              "      <td>0.15</td>\n",
              "      <td>1.000000</td>\n",
              "      <td>0.0</td>\n",
              "      <td>15.720460</td>\n",
              "    </tr>\n",
              "    <tr>\n",
              "      <th>23</th>\n",
              "      <td>C:\\Users\\user\\AI Class\\datadatadata\\IMG\\center...</td>\n",
              "      <td>C:\\Users\\user\\AI Class\\datadatadata\\IMG\\left_2...</td>\n",
              "      <td>C:\\Users\\user\\AI Class\\datadatadata\\IMG\\right_...</td>\n",
              "      <td>0.00</td>\n",
              "      <td>1.000000</td>\n",
              "      <td>0.0</td>\n",
              "      <td>16.285780</td>\n",
              "    </tr>\n",
              "    <tr>\n",
              "      <th>24</th>\n",
              "      <td>C:\\Users\\user\\AI Class\\datadatadata\\IMG\\center...</td>\n",
              "      <td>C:\\Users\\user\\AI Class\\datadatadata\\IMG\\left_2...</td>\n",
              "      <td>C:\\Users\\user\\AI Class\\datadatadata\\IMG\\right_...</td>\n",
              "      <td>0.00</td>\n",
              "      <td>1.000000</td>\n",
              "      <td>0.0</td>\n",
              "      <td>17.132460</td>\n",
              "    </tr>\n",
              "    <tr>\n",
              "      <th>25</th>\n",
              "      <td>C:\\Users\\user\\AI Class\\datadatadata\\IMG\\center...</td>\n",
              "      <td>C:\\Users\\user\\AI Class\\datadatadata\\IMG\\left_2...</td>\n",
              "      <td>C:\\Users\\user\\AI Class\\datadatadata\\IMG\\right_...</td>\n",
              "      <td>0.00</td>\n",
              "      <td>1.000000</td>\n",
              "      <td>0.0</td>\n",
              "      <td>17.792360</td>\n",
              "    </tr>\n",
              "    <tr>\n",
              "      <th>26</th>\n",
              "      <td>C:\\Users\\user\\AI Class\\datadatadata\\IMG\\center...</td>\n",
              "      <td>C:\\Users\\user\\AI Class\\datadatadata\\IMG\\left_2...</td>\n",
              "      <td>C:\\Users\\user\\AI Class\\datadatadata\\IMG\\right_...</td>\n",
              "      <td>0.05</td>\n",
              "      <td>1.000000</td>\n",
              "      <td>0.0</td>\n",
              "      <td>18.612030</td>\n",
              "    </tr>\n",
              "    <tr>\n",
              "      <th>27</th>\n",
              "      <td>C:\\Users\\user\\AI Class\\datadatadata\\IMG\\center...</td>\n",
              "      <td>C:\\Users\\user\\AI Class\\datadatadata\\IMG\\left_2...</td>\n",
              "      <td>C:\\Users\\user\\AI Class\\datadatadata\\IMG\\right_...</td>\n",
              "      <td>0.25</td>\n",
              "      <td>1.000000</td>\n",
              "      <td>0.0</td>\n",
              "      <td>19.401330</td>\n",
              "    </tr>\n",
              "    <tr>\n",
              "      <th>28</th>\n",
              "      <td>C:\\Users\\user\\AI Class\\datadatadata\\IMG\\center...</td>\n",
              "      <td>C:\\Users\\user\\AI Class\\datadatadata\\IMG\\left_2...</td>\n",
              "      <td>C:\\Users\\user\\AI Class\\datadatadata\\IMG\\right_...</td>\n",
              "      <td>0.00</td>\n",
              "      <td>1.000000</td>\n",
              "      <td>0.0</td>\n",
              "      <td>19.973330</td>\n",
              "    </tr>\n",
              "    <tr>\n",
              "      <th>29</th>\n",
              "      <td>C:\\Users\\user\\AI Class\\datadatadata\\IMG\\center...</td>\n",
              "      <td>C:\\Users\\user\\AI Class\\datadatadata\\IMG\\left_2...</td>\n",
              "      <td>C:\\Users\\user\\AI Class\\datadatadata\\IMG\\right_...</td>\n",
              "      <td>0.05</td>\n",
              "      <td>1.000000</td>\n",
              "      <td>0.0</td>\n",
              "      <td>20.768620</td>\n",
              "    </tr>\n",
              "    <tr>\n",
              "      <th>...</th>\n",
              "      <td>...</td>\n",
              "      <td>...</td>\n",
              "      <td>...</td>\n",
              "      <td>...</td>\n",
              "      <td>...</td>\n",
              "      <td>...</td>\n",
              "      <td>...</td>\n",
              "    </tr>\n",
              "    <tr>\n",
              "      <th>2455</th>\n",
              "      <td>C:\\Users\\user\\AI Class\\datadatadata\\IMG\\center...</td>\n",
              "      <td>C:\\Users\\user\\AI Class\\datadatadata\\IMG\\left_2...</td>\n",
              "      <td>C:\\Users\\user\\AI Class\\datadatadata\\IMG\\right_...</td>\n",
              "      <td>-0.95</td>\n",
              "      <td>1.000000</td>\n",
              "      <td>0.0</td>\n",
              "      <td>30.097570</td>\n",
              "    </tr>\n",
              "    <tr>\n",
              "      <th>2456</th>\n",
              "      <td>C:\\Users\\user\\AI Class\\datadatadata\\IMG\\center...</td>\n",
              "      <td>C:\\Users\\user\\AI Class\\datadatadata\\IMG\\left_2...</td>\n",
              "      <td>C:\\Users\\user\\AI Class\\datadatadata\\IMG\\right_...</td>\n",
              "      <td>0.00</td>\n",
              "      <td>1.000000</td>\n",
              "      <td>0.0</td>\n",
              "      <td>30.156790</td>\n",
              "    </tr>\n",
              "    <tr>\n",
              "      <th>2457</th>\n",
              "      <td>C:\\Users\\user\\AI Class\\datadatadata\\IMG\\center...</td>\n",
              "      <td>C:\\Users\\user\\AI Class\\datadatadata\\IMG\\left_2...</td>\n",
              "      <td>C:\\Users\\user\\AI Class\\datadatadata\\IMG\\right_...</td>\n",
              "      <td>0.00</td>\n",
              "      <td>1.000000</td>\n",
              "      <td>0.0</td>\n",
              "      <td>30.177600</td>\n",
              "    </tr>\n",
              "    <tr>\n",
              "      <th>2458</th>\n",
              "      <td>C:\\Users\\user\\AI Class\\datadatadata\\IMG\\center...</td>\n",
              "      <td>C:\\Users\\user\\AI Class\\datadatadata\\IMG\\left_2...</td>\n",
              "      <td>C:\\Users\\user\\AI Class\\datadatadata\\IMG\\right_...</td>\n",
              "      <td>0.00</td>\n",
              "      <td>1.000000</td>\n",
              "      <td>0.0</td>\n",
              "      <td>30.189190</td>\n",
              "    </tr>\n",
              "    <tr>\n",
              "      <th>2459</th>\n",
              "      <td>C:\\Users\\user\\AI Class\\datadatadata\\IMG\\center...</td>\n",
              "      <td>C:\\Users\\user\\AI Class\\datadatadata\\IMG\\left_2...</td>\n",
              "      <td>C:\\Users\\user\\AI Class\\datadatadata\\IMG\\right_...</td>\n",
              "      <td>0.00</td>\n",
              "      <td>1.000000</td>\n",
              "      <td>0.0</td>\n",
              "      <td>30.190760</td>\n",
              "    </tr>\n",
              "    <tr>\n",
              "      <th>2460</th>\n",
              "      <td>C:\\Users\\user\\AI Class\\datadatadata\\IMG\\center...</td>\n",
              "      <td>C:\\Users\\user\\AI Class\\datadatadata\\IMG\\left_2...</td>\n",
              "      <td>C:\\Users\\user\\AI Class\\datadatadata\\IMG\\right_...</td>\n",
              "      <td>-0.10</td>\n",
              "      <td>1.000000</td>\n",
              "      <td>0.0</td>\n",
              "      <td>30.189390</td>\n",
              "    </tr>\n",
              "    <tr>\n",
              "      <th>2461</th>\n",
              "      <td>C:\\Users\\user\\AI Class\\datadatadata\\IMG\\center...</td>\n",
              "      <td>C:\\Users\\user\\AI Class\\datadatadata\\IMG\\left_2...</td>\n",
              "      <td>C:\\Users\\user\\AI Class\\datadatadata\\IMG\\right_...</td>\n",
              "      <td>-0.30</td>\n",
              "      <td>1.000000</td>\n",
              "      <td>0.0</td>\n",
              "      <td>30.171730</td>\n",
              "    </tr>\n",
              "    <tr>\n",
              "      <th>2462</th>\n",
              "      <td>C:\\Users\\user\\AI Class\\datadatadata\\IMG\\center...</td>\n",
              "      <td>C:\\Users\\user\\AI Class\\datadatadata\\IMG\\left_2...</td>\n",
              "      <td>C:\\Users\\user\\AI Class\\datadatadata\\IMG\\right_...</td>\n",
              "      <td>-0.45</td>\n",
              "      <td>1.000000</td>\n",
              "      <td>0.0</td>\n",
              "      <td>30.153080</td>\n",
              "    </tr>\n",
              "    <tr>\n",
              "      <th>2463</th>\n",
              "      <td>C:\\Users\\user\\AI Class\\datadatadata\\IMG\\center...</td>\n",
              "      <td>C:\\Users\\user\\AI Class\\datadatadata\\IMG\\left_2...</td>\n",
              "      <td>C:\\Users\\user\\AI Class\\datadatadata\\IMG\\right_...</td>\n",
              "      <td>0.00</td>\n",
              "      <td>1.000000</td>\n",
              "      <td>0.0</td>\n",
              "      <td>30.187300</td>\n",
              "    </tr>\n",
              "    <tr>\n",
              "      <th>2464</th>\n",
              "      <td>C:\\Users\\user\\AI Class\\datadatadata\\IMG\\center...</td>\n",
              "      <td>C:\\Users\\user\\AI Class\\datadatadata\\IMG\\left_2...</td>\n",
              "      <td>C:\\Users\\user\\AI Class\\datadatadata\\IMG\\right_...</td>\n",
              "      <td>0.00</td>\n",
              "      <td>1.000000</td>\n",
              "      <td>0.0</td>\n",
              "      <td>30.189500</td>\n",
              "    </tr>\n",
              "    <tr>\n",
              "      <th>2465</th>\n",
              "      <td>C:\\Users\\user\\AI Class\\datadatadata\\IMG\\center...</td>\n",
              "      <td>C:\\Users\\user\\AI Class\\datadatadata\\IMG\\left_2...</td>\n",
              "      <td>C:\\Users\\user\\AI Class\\datadatadata\\IMG\\right_...</td>\n",
              "      <td>0.00</td>\n",
              "      <td>1.000000</td>\n",
              "      <td>0.0</td>\n",
              "      <td>30.190250</td>\n",
              "    </tr>\n",
              "    <tr>\n",
              "      <th>2466</th>\n",
              "      <td>C:\\Users\\user\\AI Class\\datadatadata\\IMG\\center...</td>\n",
              "      <td>C:\\Users\\user\\AI Class\\datadatadata\\IMG\\left_2...</td>\n",
              "      <td>C:\\Users\\user\\AI Class\\datadatadata\\IMG\\right_...</td>\n",
              "      <td>-0.05</td>\n",
              "      <td>1.000000</td>\n",
              "      <td>0.0</td>\n",
              "      <td>30.189890</td>\n",
              "    </tr>\n",
              "    <tr>\n",
              "      <th>2467</th>\n",
              "      <td>C:\\Users\\user\\AI Class\\datadatadata\\IMG\\center...</td>\n",
              "      <td>C:\\Users\\user\\AI Class\\datadatadata\\IMG\\left_2...</td>\n",
              "      <td>C:\\Users\\user\\AI Class\\datadatadata\\IMG\\right_...</td>\n",
              "      <td>-0.20</td>\n",
              "      <td>1.000000</td>\n",
              "      <td>0.0</td>\n",
              "      <td>30.180860</td>\n",
              "    </tr>\n",
              "    <tr>\n",
              "      <th>2468</th>\n",
              "      <td>C:\\Users\\user\\AI Class\\datadatadata\\IMG\\center...</td>\n",
              "      <td>C:\\Users\\user\\AI Class\\datadatadata\\IMG\\left_2...</td>\n",
              "      <td>C:\\Users\\user\\AI Class\\datadatadata\\IMG\\right_...</td>\n",
              "      <td>0.00</td>\n",
              "      <td>1.000000</td>\n",
              "      <td>0.0</td>\n",
              "      <td>30.190380</td>\n",
              "    </tr>\n",
              "    <tr>\n",
              "      <th>2469</th>\n",
              "      <td>C:\\Users\\user\\AI Class\\datadatadata\\IMG\\center...</td>\n",
              "      <td>C:\\Users\\user\\AI Class\\datadatadata\\IMG\\left_2...</td>\n",
              "      <td>C:\\Users\\user\\AI Class\\datadatadata\\IMG\\right_...</td>\n",
              "      <td>0.00</td>\n",
              "      <td>1.000000</td>\n",
              "      <td>0.0</td>\n",
              "      <td>30.190330</td>\n",
              "    </tr>\n",
              "    <tr>\n",
              "      <th>2470</th>\n",
              "      <td>C:\\Users\\user\\AI Class\\datadatadata\\IMG\\center...</td>\n",
              "      <td>C:\\Users\\user\\AI Class\\datadatadata\\IMG\\left_2...</td>\n",
              "      <td>C:\\Users\\user\\AI Class\\datadatadata\\IMG\\right_...</td>\n",
              "      <td>0.00</td>\n",
              "      <td>1.000000</td>\n",
              "      <td>0.0</td>\n",
              "      <td>30.190310</td>\n",
              "    </tr>\n",
              "    <tr>\n",
              "      <th>2471</th>\n",
              "      <td>C:\\Users\\user\\AI Class\\datadatadata\\IMG\\center...</td>\n",
              "      <td>C:\\Users\\user\\AI Class\\datadatadata\\IMG\\left_2...</td>\n",
              "      <td>C:\\Users\\user\\AI Class\\datadatadata\\IMG\\right_...</td>\n",
              "      <td>0.00</td>\n",
              "      <td>1.000000</td>\n",
              "      <td>0.0</td>\n",
              "      <td>30.190330</td>\n",
              "    </tr>\n",
              "    <tr>\n",
              "      <th>2472</th>\n",
              "      <td>C:\\Users\\user\\AI Class\\datadatadata\\IMG\\center...</td>\n",
              "      <td>C:\\Users\\user\\AI Class\\datadatadata\\IMG\\left_2...</td>\n",
              "      <td>C:\\Users\\user\\AI Class\\datadatadata\\IMG\\right_...</td>\n",
              "      <td>0.00</td>\n",
              "      <td>1.000000</td>\n",
              "      <td>0.0</td>\n",
              "      <td>30.190310</td>\n",
              "    </tr>\n",
              "    <tr>\n",
              "      <th>2473</th>\n",
              "      <td>C:\\Users\\user\\AI Class\\datadatadata\\IMG\\center...</td>\n",
              "      <td>C:\\Users\\user\\AI Class\\datadatadata\\IMG\\left_2...</td>\n",
              "      <td>C:\\Users\\user\\AI Class\\datadatadata\\IMG\\right_...</td>\n",
              "      <td>-0.15</td>\n",
              "      <td>1.000000</td>\n",
              "      <td>0.0</td>\n",
              "      <td>30.184340</td>\n",
              "    </tr>\n",
              "    <tr>\n",
              "      <th>2474</th>\n",
              "      <td>C:\\Users\\user\\AI Class\\datadatadata\\IMG\\center...</td>\n",
              "      <td>C:\\Users\\user\\AI Class\\datadatadata\\IMG\\left_2...</td>\n",
              "      <td>C:\\Users\\user\\AI Class\\datadatadata\\IMG\\right_...</td>\n",
              "      <td>-0.40</td>\n",
              "      <td>1.000000</td>\n",
              "      <td>0.0</td>\n",
              "      <td>30.157590</td>\n",
              "    </tr>\n",
              "    <tr>\n",
              "      <th>2475</th>\n",
              "      <td>C:\\Users\\user\\AI Class\\datadatadata\\IMG\\center...</td>\n",
              "      <td>C:\\Users\\user\\AI Class\\datadatadata\\IMG\\left_2...</td>\n",
              "      <td>C:\\Users\\user\\AI Class\\datadatadata\\IMG\\right_...</td>\n",
              "      <td>-0.55</td>\n",
              "      <td>1.000000</td>\n",
              "      <td>0.0</td>\n",
              "      <td>30.139310</td>\n",
              "    </tr>\n",
              "    <tr>\n",
              "      <th>2476</th>\n",
              "      <td>C:\\Users\\user\\AI Class\\datadatadata\\IMG\\center...</td>\n",
              "      <td>C:\\Users\\user\\AI Class\\datadatadata\\IMG\\left_2...</td>\n",
              "      <td>C:\\Users\\user\\AI Class\\datadatadata\\IMG\\right_...</td>\n",
              "      <td>0.00</td>\n",
              "      <td>1.000000</td>\n",
              "      <td>0.0</td>\n",
              "      <td>30.168510</td>\n",
              "    </tr>\n",
              "    <tr>\n",
              "      <th>2477</th>\n",
              "      <td>C:\\Users\\user\\AI Class\\datadatadata\\IMG\\center...</td>\n",
              "      <td>C:\\Users\\user\\AI Class\\datadatadata\\IMG\\left_2...</td>\n",
              "      <td>C:\\Users\\user\\AI Class\\datadatadata\\IMG\\right_...</td>\n",
              "      <td>0.00</td>\n",
              "      <td>1.000000</td>\n",
              "      <td>0.0</td>\n",
              "      <td>30.182210</td>\n",
              "    </tr>\n",
              "    <tr>\n",
              "      <th>2478</th>\n",
              "      <td>C:\\Users\\user\\AI Class\\datadatadata\\IMG\\center...</td>\n",
              "      <td>C:\\Users\\user\\AI Class\\datadatadata\\IMG\\left_2...</td>\n",
              "      <td>C:\\Users\\user\\AI Class\\datadatadata\\IMG\\right_...</td>\n",
              "      <td>0.00</td>\n",
              "      <td>1.000000</td>\n",
              "      <td>0.0</td>\n",
              "      <td>30.188860</td>\n",
              "    </tr>\n",
              "    <tr>\n",
              "      <th>2479</th>\n",
              "      <td>C:\\Users\\user\\AI Class\\datadatadata\\IMG\\center...</td>\n",
              "      <td>C:\\Users\\user\\AI Class\\datadatadata\\IMG\\left_2...</td>\n",
              "      <td>C:\\Users\\user\\AI Class\\datadatadata\\IMG\\right_...</td>\n",
              "      <td>0.00</td>\n",
              "      <td>1.000000</td>\n",
              "      <td>0.0</td>\n",
              "      <td>30.190130</td>\n",
              "    </tr>\n",
              "    <tr>\n",
              "      <th>2480</th>\n",
              "      <td>C:\\Users\\user\\AI Class\\datadatadata\\IMG\\center...</td>\n",
              "      <td>C:\\Users\\user\\AI Class\\datadatadata\\IMG\\left_2...</td>\n",
              "      <td>C:\\Users\\user\\AI Class\\datadatadata\\IMG\\right_...</td>\n",
              "      <td>-0.05</td>\n",
              "      <td>1.000000</td>\n",
              "      <td>0.0</td>\n",
              "      <td>30.190070</td>\n",
              "    </tr>\n",
              "    <tr>\n",
              "      <th>2481</th>\n",
              "      <td>C:\\Users\\user\\AI Class\\datadatadata\\IMG\\center...</td>\n",
              "      <td>C:\\Users\\user\\AI Class\\datadatadata\\IMG\\left_2...</td>\n",
              "      <td>C:\\Users\\user\\AI Class\\datadatadata\\IMG\\right_...</td>\n",
              "      <td>0.00</td>\n",
              "      <td>1.000000</td>\n",
              "      <td>0.0</td>\n",
              "      <td>30.187850</td>\n",
              "    </tr>\n",
              "    <tr>\n",
              "      <th>2482</th>\n",
              "      <td>C:\\Users\\user\\AI Class\\datadatadata\\IMG\\center...</td>\n",
              "      <td>C:\\Users\\user\\AI Class\\datadatadata\\IMG\\left_2...</td>\n",
              "      <td>C:\\Users\\user\\AI Class\\datadatadata\\IMG\\right_...</td>\n",
              "      <td>0.00</td>\n",
              "      <td>0.968302</td>\n",
              "      <td>0.0</td>\n",
              "      <td>30.190190</td>\n",
              "    </tr>\n",
              "    <tr>\n",
              "      <th>2483</th>\n",
              "      <td>C:\\Users\\user\\AI Class\\datadatadata\\IMG\\center...</td>\n",
              "      <td>C:\\Users\\user\\AI Class\\datadatadata\\IMG\\left_2...</td>\n",
              "      <td>C:\\Users\\user\\AI Class\\datadatadata\\IMG\\right_...</td>\n",
              "      <td>0.00</td>\n",
              "      <td>0.738214</td>\n",
              "      <td>0.0</td>\n",
              "      <td>30.135020</td>\n",
              "    </tr>\n",
              "    <tr>\n",
              "      <th>2484</th>\n",
              "      <td>C:\\Users\\user\\AI Class\\datadatadata\\IMG\\center...</td>\n",
              "      <td>C:\\Users\\user\\AI Class\\datadatadata\\IMG\\left_2...</td>\n",
              "      <td>C:\\Users\\user\\AI Class\\datadatadata\\IMG\\right_...</td>\n",
              "      <td>0.00</td>\n",
              "      <td>0.550320</td>\n",
              "      <td>0.0</td>\n",
              "      <td>30.081670</td>\n",
              "    </tr>\n",
              "  </tbody>\n",
              "</table>\n",
              "<p>2485 rows × 7 columns</p>\n",
              "</div>"
            ],
            "text/plain": [
              "                                                 center  \\\n",
              "0     C:\\Users\\user\\AI Class\\datadatadata\\IMG\\center...   \n",
              "1     C:\\Users\\user\\AI Class\\datadatadata\\IMG\\center...   \n",
              "2     C:\\Users\\user\\AI Class\\datadatadata\\IMG\\center...   \n",
              "3     C:\\Users\\user\\AI Class\\datadatadata\\IMG\\center...   \n",
              "4     C:\\Users\\user\\AI Class\\datadatadata\\IMG\\center...   \n",
              "5     C:\\Users\\user\\AI Class\\datadatadata\\IMG\\center...   \n",
              "6     C:\\Users\\user\\AI Class\\datadatadata\\IMG\\center...   \n",
              "7     C:\\Users\\user\\AI Class\\datadatadata\\IMG\\center...   \n",
              "8     C:\\Users\\user\\AI Class\\datadatadata\\IMG\\center...   \n",
              "9     C:\\Users\\user\\AI Class\\datadatadata\\IMG\\center...   \n",
              "10    C:\\Users\\user\\AI Class\\datadatadata\\IMG\\center...   \n",
              "11    C:\\Users\\user\\AI Class\\datadatadata\\IMG\\center...   \n",
              "12    C:\\Users\\user\\AI Class\\datadatadata\\IMG\\center...   \n",
              "13    C:\\Users\\user\\AI Class\\datadatadata\\IMG\\center...   \n",
              "14    C:\\Users\\user\\AI Class\\datadatadata\\IMG\\center...   \n",
              "15    C:\\Users\\user\\AI Class\\datadatadata\\IMG\\center...   \n",
              "16    C:\\Users\\user\\AI Class\\datadatadata\\IMG\\center...   \n",
              "17    C:\\Users\\user\\AI Class\\datadatadata\\IMG\\center...   \n",
              "18    C:\\Users\\user\\AI Class\\datadatadata\\IMG\\center...   \n",
              "19    C:\\Users\\user\\AI Class\\datadatadata\\IMG\\center...   \n",
              "20    C:\\Users\\user\\AI Class\\datadatadata\\IMG\\center...   \n",
              "21    C:\\Users\\user\\AI Class\\datadatadata\\IMG\\center...   \n",
              "22    C:\\Users\\user\\AI Class\\datadatadata\\IMG\\center...   \n",
              "23    C:\\Users\\user\\AI Class\\datadatadata\\IMG\\center...   \n",
              "24    C:\\Users\\user\\AI Class\\datadatadata\\IMG\\center...   \n",
              "25    C:\\Users\\user\\AI Class\\datadatadata\\IMG\\center...   \n",
              "26    C:\\Users\\user\\AI Class\\datadatadata\\IMG\\center...   \n",
              "27    C:\\Users\\user\\AI Class\\datadatadata\\IMG\\center...   \n",
              "28    C:\\Users\\user\\AI Class\\datadatadata\\IMG\\center...   \n",
              "29    C:\\Users\\user\\AI Class\\datadatadata\\IMG\\center...   \n",
              "...                                                 ...   \n",
              "2455  C:\\Users\\user\\AI Class\\datadatadata\\IMG\\center...   \n",
              "2456  C:\\Users\\user\\AI Class\\datadatadata\\IMG\\center...   \n",
              "2457  C:\\Users\\user\\AI Class\\datadatadata\\IMG\\center...   \n",
              "2458  C:\\Users\\user\\AI Class\\datadatadata\\IMG\\center...   \n",
              "2459  C:\\Users\\user\\AI Class\\datadatadata\\IMG\\center...   \n",
              "2460  C:\\Users\\user\\AI Class\\datadatadata\\IMG\\center...   \n",
              "2461  C:\\Users\\user\\AI Class\\datadatadata\\IMG\\center...   \n",
              "2462  C:\\Users\\user\\AI Class\\datadatadata\\IMG\\center...   \n",
              "2463  C:\\Users\\user\\AI Class\\datadatadata\\IMG\\center...   \n",
              "2464  C:\\Users\\user\\AI Class\\datadatadata\\IMG\\center...   \n",
              "2465  C:\\Users\\user\\AI Class\\datadatadata\\IMG\\center...   \n",
              "2466  C:\\Users\\user\\AI Class\\datadatadata\\IMG\\center...   \n",
              "2467  C:\\Users\\user\\AI Class\\datadatadata\\IMG\\center...   \n",
              "2468  C:\\Users\\user\\AI Class\\datadatadata\\IMG\\center...   \n",
              "2469  C:\\Users\\user\\AI Class\\datadatadata\\IMG\\center...   \n",
              "2470  C:\\Users\\user\\AI Class\\datadatadata\\IMG\\center...   \n",
              "2471  C:\\Users\\user\\AI Class\\datadatadata\\IMG\\center...   \n",
              "2472  C:\\Users\\user\\AI Class\\datadatadata\\IMG\\center...   \n",
              "2473  C:\\Users\\user\\AI Class\\datadatadata\\IMG\\center...   \n",
              "2474  C:\\Users\\user\\AI Class\\datadatadata\\IMG\\center...   \n",
              "2475  C:\\Users\\user\\AI Class\\datadatadata\\IMG\\center...   \n",
              "2476  C:\\Users\\user\\AI Class\\datadatadata\\IMG\\center...   \n",
              "2477  C:\\Users\\user\\AI Class\\datadatadata\\IMG\\center...   \n",
              "2478  C:\\Users\\user\\AI Class\\datadatadata\\IMG\\center...   \n",
              "2479  C:\\Users\\user\\AI Class\\datadatadata\\IMG\\center...   \n",
              "2480  C:\\Users\\user\\AI Class\\datadatadata\\IMG\\center...   \n",
              "2481  C:\\Users\\user\\AI Class\\datadatadata\\IMG\\center...   \n",
              "2482  C:\\Users\\user\\AI Class\\datadatadata\\IMG\\center...   \n",
              "2483  C:\\Users\\user\\AI Class\\datadatadata\\IMG\\center...   \n",
              "2484  C:\\Users\\user\\AI Class\\datadatadata\\IMG\\center...   \n",
              "\n",
              "                                                   left  \\\n",
              "0     C:\\Users\\user\\AI Class\\datadatadata\\IMG\\left_2...   \n",
              "1     C:\\Users\\user\\AI Class\\datadatadata\\IMG\\left_2...   \n",
              "2     C:\\Users\\user\\AI Class\\datadatadata\\IMG\\left_2...   \n",
              "3     C:\\Users\\user\\AI Class\\datadatadata\\IMG\\left_2...   \n",
              "4     C:\\Users\\user\\AI Class\\datadatadata\\IMG\\left_2...   \n",
              "5     C:\\Users\\user\\AI Class\\datadatadata\\IMG\\left_2...   \n",
              "6     C:\\Users\\user\\AI Class\\datadatadata\\IMG\\left_2...   \n",
              "7     C:\\Users\\user\\AI Class\\datadatadata\\IMG\\left_2...   \n",
              "8     C:\\Users\\user\\AI Class\\datadatadata\\IMG\\left_2...   \n",
              "9     C:\\Users\\user\\AI Class\\datadatadata\\IMG\\left_2...   \n",
              "10    C:\\Users\\user\\AI Class\\datadatadata\\IMG\\left_2...   \n",
              "11    C:\\Users\\user\\AI Class\\datadatadata\\IMG\\left_2...   \n",
              "12    C:\\Users\\user\\AI Class\\datadatadata\\IMG\\left_2...   \n",
              "13    C:\\Users\\user\\AI Class\\datadatadata\\IMG\\left_2...   \n",
              "14    C:\\Users\\user\\AI Class\\datadatadata\\IMG\\left_2...   \n",
              "15    C:\\Users\\user\\AI Class\\datadatadata\\IMG\\left_2...   \n",
              "16    C:\\Users\\user\\AI Class\\datadatadata\\IMG\\left_2...   \n",
              "17    C:\\Users\\user\\AI Class\\datadatadata\\IMG\\left_2...   \n",
              "18    C:\\Users\\user\\AI Class\\datadatadata\\IMG\\left_2...   \n",
              "19    C:\\Users\\user\\AI Class\\datadatadata\\IMG\\left_2...   \n",
              "20    C:\\Users\\user\\AI Class\\datadatadata\\IMG\\left_2...   \n",
              "21    C:\\Users\\user\\AI Class\\datadatadata\\IMG\\left_2...   \n",
              "22    C:\\Users\\user\\AI Class\\datadatadata\\IMG\\left_2...   \n",
              "23    C:\\Users\\user\\AI Class\\datadatadata\\IMG\\left_2...   \n",
              "24    C:\\Users\\user\\AI Class\\datadatadata\\IMG\\left_2...   \n",
              "25    C:\\Users\\user\\AI Class\\datadatadata\\IMG\\left_2...   \n",
              "26    C:\\Users\\user\\AI Class\\datadatadata\\IMG\\left_2...   \n",
              "27    C:\\Users\\user\\AI Class\\datadatadata\\IMG\\left_2...   \n",
              "28    C:\\Users\\user\\AI Class\\datadatadata\\IMG\\left_2...   \n",
              "29    C:\\Users\\user\\AI Class\\datadatadata\\IMG\\left_2...   \n",
              "...                                                 ...   \n",
              "2455  C:\\Users\\user\\AI Class\\datadatadata\\IMG\\left_2...   \n",
              "2456  C:\\Users\\user\\AI Class\\datadatadata\\IMG\\left_2...   \n",
              "2457  C:\\Users\\user\\AI Class\\datadatadata\\IMG\\left_2...   \n",
              "2458  C:\\Users\\user\\AI Class\\datadatadata\\IMG\\left_2...   \n",
              "2459  C:\\Users\\user\\AI Class\\datadatadata\\IMG\\left_2...   \n",
              "2460  C:\\Users\\user\\AI Class\\datadatadata\\IMG\\left_2...   \n",
              "2461  C:\\Users\\user\\AI Class\\datadatadata\\IMG\\left_2...   \n",
              "2462  C:\\Users\\user\\AI Class\\datadatadata\\IMG\\left_2...   \n",
              "2463  C:\\Users\\user\\AI Class\\datadatadata\\IMG\\left_2...   \n",
              "2464  C:\\Users\\user\\AI Class\\datadatadata\\IMG\\left_2...   \n",
              "2465  C:\\Users\\user\\AI Class\\datadatadata\\IMG\\left_2...   \n",
              "2466  C:\\Users\\user\\AI Class\\datadatadata\\IMG\\left_2...   \n",
              "2467  C:\\Users\\user\\AI Class\\datadatadata\\IMG\\left_2...   \n",
              "2468  C:\\Users\\user\\AI Class\\datadatadata\\IMG\\left_2...   \n",
              "2469  C:\\Users\\user\\AI Class\\datadatadata\\IMG\\left_2...   \n",
              "2470  C:\\Users\\user\\AI Class\\datadatadata\\IMG\\left_2...   \n",
              "2471  C:\\Users\\user\\AI Class\\datadatadata\\IMG\\left_2...   \n",
              "2472  C:\\Users\\user\\AI Class\\datadatadata\\IMG\\left_2...   \n",
              "2473  C:\\Users\\user\\AI Class\\datadatadata\\IMG\\left_2...   \n",
              "2474  C:\\Users\\user\\AI Class\\datadatadata\\IMG\\left_2...   \n",
              "2475  C:\\Users\\user\\AI Class\\datadatadata\\IMG\\left_2...   \n",
              "2476  C:\\Users\\user\\AI Class\\datadatadata\\IMG\\left_2...   \n",
              "2477  C:\\Users\\user\\AI Class\\datadatadata\\IMG\\left_2...   \n",
              "2478  C:\\Users\\user\\AI Class\\datadatadata\\IMG\\left_2...   \n",
              "2479  C:\\Users\\user\\AI Class\\datadatadata\\IMG\\left_2...   \n",
              "2480  C:\\Users\\user\\AI Class\\datadatadata\\IMG\\left_2...   \n",
              "2481  C:\\Users\\user\\AI Class\\datadatadata\\IMG\\left_2...   \n",
              "2482  C:\\Users\\user\\AI Class\\datadatadata\\IMG\\left_2...   \n",
              "2483  C:\\Users\\user\\AI Class\\datadatadata\\IMG\\left_2...   \n",
              "2484  C:\\Users\\user\\AI Class\\datadatadata\\IMG\\left_2...   \n",
              "\n",
              "                                                  right    x1        x2   x3  \\\n",
              "0     C:\\Users\\user\\AI Class\\datadatadata\\IMG\\right_...  0.00  0.000000  0.0   \n",
              "1     C:\\Users\\user\\AI Class\\datadatadata\\IMG\\right_...  0.00  0.000000  0.0   \n",
              "2     C:\\Users\\user\\AI Class\\datadatadata\\IMG\\right_...  0.00  0.000000  0.0   \n",
              "3     C:\\Users\\user\\AI Class\\datadatadata\\IMG\\right_...  0.00  0.180978  0.0   \n",
              "4     C:\\Users\\user\\AI Class\\datadatadata\\IMG\\right_...  0.00  0.397435  0.0   \n",
              "5     C:\\Users\\user\\AI Class\\datadatadata\\IMG\\right_...  0.00  0.603803  0.0   \n",
              "6     C:\\Users\\user\\AI Class\\datadatadata\\IMG\\right_...  0.00  0.858385  0.0   \n",
              "7     C:\\Users\\user\\AI Class\\datadatadata\\IMG\\right_...  0.00  1.000000  0.0   \n",
              "8     C:\\Users\\user\\AI Class\\datadatadata\\IMG\\right_...  0.20  1.000000  0.0   \n",
              "9     C:\\Users\\user\\AI Class\\datadatadata\\IMG\\right_...  0.00  1.000000  0.0   \n",
              "10    C:\\Users\\user\\AI Class\\datadatadata\\IMG\\right_...  0.00  1.000000  0.0   \n",
              "11    C:\\Users\\user\\AI Class\\datadatadata\\IMG\\right_...  0.00  1.000000  0.0   \n",
              "12    C:\\Users\\user\\AI Class\\datadatadata\\IMG\\right_...  0.00  1.000000  0.0   \n",
              "13    C:\\Users\\user\\AI Class\\datadatadata\\IMG\\right_...  0.00  1.000000  0.0   \n",
              "14    C:\\Users\\user\\AI Class\\datadatadata\\IMG\\right_...  0.00  1.000000  0.0   \n",
              "15    C:\\Users\\user\\AI Class\\datadatadata\\IMG\\right_...  0.15  1.000000  0.0   \n",
              "16    C:\\Users\\user\\AI Class\\datadatadata\\IMG\\right_...  0.30  1.000000  0.0   \n",
              "17    C:\\Users\\user\\AI Class\\datadatadata\\IMG\\right_...  0.00  1.000000  0.0   \n",
              "18    C:\\Users\\user\\AI Class\\datadatadata\\IMG\\right_...  0.00  1.000000  0.0   \n",
              "19    C:\\Users\\user\\AI Class\\datadatadata\\IMG\\right_...  0.00  1.000000  0.0   \n",
              "20    C:\\Users\\user\\AI Class\\datadatadata\\IMG\\right_...  0.00  1.000000  0.0   \n",
              "21    C:\\Users\\user\\AI Class\\datadatadata\\IMG\\right_...  0.00  1.000000  0.0   \n",
              "22    C:\\Users\\user\\AI Class\\datadatadata\\IMG\\right_...  0.15  1.000000  0.0   \n",
              "23    C:\\Users\\user\\AI Class\\datadatadata\\IMG\\right_...  0.00  1.000000  0.0   \n",
              "24    C:\\Users\\user\\AI Class\\datadatadata\\IMG\\right_...  0.00  1.000000  0.0   \n",
              "25    C:\\Users\\user\\AI Class\\datadatadata\\IMG\\right_...  0.00  1.000000  0.0   \n",
              "26    C:\\Users\\user\\AI Class\\datadatadata\\IMG\\right_...  0.05  1.000000  0.0   \n",
              "27    C:\\Users\\user\\AI Class\\datadatadata\\IMG\\right_...  0.25  1.000000  0.0   \n",
              "28    C:\\Users\\user\\AI Class\\datadatadata\\IMG\\right_...  0.00  1.000000  0.0   \n",
              "29    C:\\Users\\user\\AI Class\\datadatadata\\IMG\\right_...  0.05  1.000000  0.0   \n",
              "...                                                 ...   ...       ...  ...   \n",
              "2455  C:\\Users\\user\\AI Class\\datadatadata\\IMG\\right_... -0.95  1.000000  0.0   \n",
              "2456  C:\\Users\\user\\AI Class\\datadatadata\\IMG\\right_...  0.00  1.000000  0.0   \n",
              "2457  C:\\Users\\user\\AI Class\\datadatadata\\IMG\\right_...  0.00  1.000000  0.0   \n",
              "2458  C:\\Users\\user\\AI Class\\datadatadata\\IMG\\right_...  0.00  1.000000  0.0   \n",
              "2459  C:\\Users\\user\\AI Class\\datadatadata\\IMG\\right_...  0.00  1.000000  0.0   \n",
              "2460  C:\\Users\\user\\AI Class\\datadatadata\\IMG\\right_... -0.10  1.000000  0.0   \n",
              "2461  C:\\Users\\user\\AI Class\\datadatadata\\IMG\\right_... -0.30  1.000000  0.0   \n",
              "2462  C:\\Users\\user\\AI Class\\datadatadata\\IMG\\right_... -0.45  1.000000  0.0   \n",
              "2463  C:\\Users\\user\\AI Class\\datadatadata\\IMG\\right_...  0.00  1.000000  0.0   \n",
              "2464  C:\\Users\\user\\AI Class\\datadatadata\\IMG\\right_...  0.00  1.000000  0.0   \n",
              "2465  C:\\Users\\user\\AI Class\\datadatadata\\IMG\\right_...  0.00  1.000000  0.0   \n",
              "2466  C:\\Users\\user\\AI Class\\datadatadata\\IMG\\right_... -0.05  1.000000  0.0   \n",
              "2467  C:\\Users\\user\\AI Class\\datadatadata\\IMG\\right_... -0.20  1.000000  0.0   \n",
              "2468  C:\\Users\\user\\AI Class\\datadatadata\\IMG\\right_...  0.00  1.000000  0.0   \n",
              "2469  C:\\Users\\user\\AI Class\\datadatadata\\IMG\\right_...  0.00  1.000000  0.0   \n",
              "2470  C:\\Users\\user\\AI Class\\datadatadata\\IMG\\right_...  0.00  1.000000  0.0   \n",
              "2471  C:\\Users\\user\\AI Class\\datadatadata\\IMG\\right_...  0.00  1.000000  0.0   \n",
              "2472  C:\\Users\\user\\AI Class\\datadatadata\\IMG\\right_...  0.00  1.000000  0.0   \n",
              "2473  C:\\Users\\user\\AI Class\\datadatadata\\IMG\\right_... -0.15  1.000000  0.0   \n",
              "2474  C:\\Users\\user\\AI Class\\datadatadata\\IMG\\right_... -0.40  1.000000  0.0   \n",
              "2475  C:\\Users\\user\\AI Class\\datadatadata\\IMG\\right_... -0.55  1.000000  0.0   \n",
              "2476  C:\\Users\\user\\AI Class\\datadatadata\\IMG\\right_...  0.00  1.000000  0.0   \n",
              "2477  C:\\Users\\user\\AI Class\\datadatadata\\IMG\\right_...  0.00  1.000000  0.0   \n",
              "2478  C:\\Users\\user\\AI Class\\datadatadata\\IMG\\right_...  0.00  1.000000  0.0   \n",
              "2479  C:\\Users\\user\\AI Class\\datadatadata\\IMG\\right_...  0.00  1.000000  0.0   \n",
              "2480  C:\\Users\\user\\AI Class\\datadatadata\\IMG\\right_... -0.05  1.000000  0.0   \n",
              "2481  C:\\Users\\user\\AI Class\\datadatadata\\IMG\\right_...  0.00  1.000000  0.0   \n",
              "2482  C:\\Users\\user\\AI Class\\datadatadata\\IMG\\right_...  0.00  0.968302  0.0   \n",
              "2483  C:\\Users\\user\\AI Class\\datadatadata\\IMG\\right_...  0.00  0.738214  0.0   \n",
              "2484  C:\\Users\\user\\AI Class\\datadatadata\\IMG\\right_...  0.00  0.550320  0.0   \n",
              "\n",
              "             x4  \n",
              "0      1.636400  \n",
              "1      1.626524  \n",
              "2      1.613449  \n",
              "3      1.711842  \n",
              "4      1.919822  \n",
              "5      2.394652  \n",
              "6      3.122741  \n",
              "7      3.800794  \n",
              "8      4.729679  \n",
              "9      5.418929  \n",
              "10     6.340760  \n",
              "11     7.027904  \n",
              "12     7.937892  \n",
              "13     8.840814  \n",
              "14     9.513362  \n",
              "15    10.398250  \n",
              "16    11.038760  \n",
              "17    11.932740  \n",
              "18    12.325670  \n",
              "19    13.345820  \n",
              "20    14.084310  \n",
              "21    14.877940  \n",
              "22    15.720460  \n",
              "23    16.285780  \n",
              "24    17.132460  \n",
              "25    17.792360  \n",
              "26    18.612030  \n",
              "27    19.401330  \n",
              "28    19.973330  \n",
              "29    20.768620  \n",
              "...         ...  \n",
              "2455  30.097570  \n",
              "2456  30.156790  \n",
              "2457  30.177600  \n",
              "2458  30.189190  \n",
              "2459  30.190760  \n",
              "2460  30.189390  \n",
              "2461  30.171730  \n",
              "2462  30.153080  \n",
              "2463  30.187300  \n",
              "2464  30.189500  \n",
              "2465  30.190250  \n",
              "2466  30.189890  \n",
              "2467  30.180860  \n",
              "2468  30.190380  \n",
              "2469  30.190330  \n",
              "2470  30.190310  \n",
              "2471  30.190330  \n",
              "2472  30.190310  \n",
              "2473  30.184340  \n",
              "2474  30.157590  \n",
              "2475  30.139310  \n",
              "2476  30.168510  \n",
              "2477  30.182210  \n",
              "2478  30.188860  \n",
              "2479  30.190130  \n",
              "2480  30.190070  \n",
              "2481  30.187850  \n",
              "2482  30.190190  \n",
              "2483  30.135020  \n",
              "2484  30.081670  \n",
              "\n",
              "[2485 rows x 7 columns]"
            ]
          },
          "execution_count": 4,
          "metadata": {},
          "output_type": "execute_result"
        }
      ],
      "source": [
        "textData"
      ]
    },
    {
      "cell_type": "code",
      "execution_count": null,
      "metadata": {
        "id": "eCaZDoIYt0sb"
      },
      "outputs": [],
      "source": [
        "rawData = textData.to_numpy()\n",
        "random.shuffle(rawData)"
      ]
    },
    {
      "cell_type": "code",
      "execution_count": null,
      "metadata": {
        "id": "lzXxkc8xt0sb"
      },
      "outputs": [],
      "source": [
        "featureLinks = rawData[:,0:3]\n",
        "labels = rawData[:,3:]"
      ]
    },
    {
      "cell_type": "code",
      "execution_count": null,
      "metadata": {
        "id": "cKRDlAUYt0sc"
      },
      "outputs": [],
      "source": [
        "Image.open(featureLinks[0,0]).convert(\"L\").crop((0,60,320,160)).show()"
      ]
    },
    {
      "cell_type": "code",
      "execution_count": null,
      "metadata": {
        "id": "8eA9TzsAt0sc"
      },
      "outputs": [],
      "source": [
        "labels3 = labels.reshape(int(len(labels/4)),4)"
      ]
    },
    {
      "cell_type": "code",
      "execution_count": null,
      "metadata": {
        "id": "DKDhNlPtt0sc"
      },
      "outputs": [],
      "source": [
        "labels2 = labels3"
      ]
    },
    {
      "cell_type": "code",
      "execution_count": null,
      "metadata": {
        "id": "8xIkhtpwt0sd",
        "outputId": "98c0d02f-1001-45c3-ada8-edd7e0483afd"
      },
      "outputs": [
        {
          "data": {
            "text/plain": [
              "(2485, 4)"
            ]
          },
          "execution_count": 10,
          "metadata": {},
          "output_type": "execute_result"
        }
      ],
      "source": [
        "labels2.shape"
      ]
    },
    {
      "cell_type": "code",
      "execution_count": null,
      "metadata": {
        "id": "tcpsOSLot0sd",
        "outputId": "cac3ae0c-047d-43a1-9e0a-2c533cdfe0b9"
      },
      "outputs": [
        {
          "data": {
            "text/plain": [
              "array(['C:\\\\Users\\\\user\\\\AI Class\\\\datadatadata\\\\IMG\\\\center_2019_06_26_15_11_45_898.jpg',\n",
              "       'C:\\\\Users\\\\user\\\\AI Class\\\\datadatadata\\\\IMG\\\\left_2019_06_26_15_11_45_898.jpg',\n",
              "       'C:\\\\Users\\\\user\\\\AI Class\\\\datadatadata\\\\IMG\\\\right_2019_06_26_15_11_45_898.jpg'],\n",
              "      dtype=object)"
            ]
          },
          "execution_count": 11,
          "metadata": {},
          "output_type": "execute_result"
        }
      ],
      "source": [
        "featureLinks[0]"
      ]
    },
    {
      "cell_type": "code",
      "execution_count": null,
      "metadata": {
        "id": "HHqkwrUCt0sd"
      },
      "outputs": [],
      "source": [
        "image = [[]]"
      ]
    },
    {
      "cell_type": "code",
      "execution_count": null,
      "metadata": {
        "id": "_iesbr4Bt0sd",
        "outputId": "a3cda8bb-fd22-416c-843e-b046af919f67"
      },
      "outputs": [
        {
          "name": "stderr",
          "output_type": "stream",
          "text": [
            "100%|██████████████████████████████████████| 2485/2485 [15:33<00:00,  1.61it/s]\n"
          ]
        }
      ],
      "source": [
        "selected = np.empty([0,0])\n",
        "#for item in tqdm(range(1000)):\n",
        "#    selected = np.append(selected, random.choice(featureLinks))\n",
        "#selected = selected.reshape(int(len(selected)/3), 3)\n",
        "for row in tqdm(range(len(featureLinks[:]))):\n",
        "    #currentList = []\n",
        "    #for col in range(3):\n",
        "        #currentList = np.append(currentList, )\n",
        "    #image = np.append(image, [[currentList]])\n",
        "    image = np.append(image, np.asarray(Image.open(featureLinks[row,0]).convert(\"L\").crop((0,60,320,160))))\n",
        "    if row%100 == 0:\n",
        "        np.save(\"labels2val3\", labels2) #saves 1d array of images; proper size 333x3x320x160x1\n",
        "        np.save(\"imageval3\", image) #saves 1d array of images; proper size 333x3x320x160x1\n",
        "np.save(\"labels2val4\", labels2) #saves 1d array of images; proper size 333x3x320x160x1\n",
        "np.save(\"imageval4\", image) #saves 1d array of images; proper size 333x3x320x160x1\n",
        "#print(image)"
      ]
    },
    {
      "cell_type": "code",
      "execution_count": null,
      "metadata": {
        "id": "BTYbm37Ut0se"
      },
      "outputs": [],
      "source": [
        "np.save(\"labels2val6\", labels2) #saves 1d array of images; proper size 333x3x320x160x1\n",
        "np.save(\"imageval6\", image) #saves 1d array of images; proper size 333x3x320x160x1\n"
      ]
    },
    {
      "cell_type": "code",
      "execution_count": null,
      "metadata": {
        "id": "ThRiInwnt0se"
      },
      "outputs": [],
      "source": [
        "np.save(\"tdata\", image) #saves 1d array of images; proper size 333x3x320x160x1"
      ]
    },
    {
      "cell_type": "code",
      "execution_count": null,
      "metadata": {
        "id": "7IA1csV3t0se"
      },
      "outputs": [],
      "source": [
        "image = np.load(\"imageval3.npy\")\n",
        "labels2 = np.load(\"labels2val3.npy\")"
      ]
    },
    {
      "cell_type": "code",
      "execution_count": null,
      "metadata": {
        "id": "ioBZIRbdt0se"
      },
      "outputs": [],
      "source": [
        "resimage = np.resize(image, (int(len(image)/(320*100)),100,320,1))"
      ]
    },
    {
      "cell_type": "code",
      "execution_count": null,
      "metadata": {
        "id": "uWlF83_Yt0se"
      },
      "outputs": [],
      "source": [
        "image2 = resimage[:1004]"
      ]
    },
    {
      "cell_type": "code",
      "execution_count": null,
      "metadata": {
        "id": "JNoPdnL_t0sf",
        "outputId": "94c40b1d-3407-4249-9531-a0c967353649"
      },
      "outputs": [
        {
          "ename": "NameError",
          "evalue": "name 'featureLinks' is not defined",
          "output_type": "error",
          "traceback": [
            "\u001b[1;31m---------------------------------------------------------------------------\u001b[0m",
            "\u001b[1;31mNameError\u001b[0m                                 Traceback (most recent call last)",
            "\u001b[1;32m<ipython-input-7-7d81d3deeb8a>\u001b[0m in \u001b[0;36m<module>\u001b[1;34m\u001b[0m\n\u001b[1;32m----> 1\u001b[1;33m \u001b[0mfeatureLinks\u001b[0m\u001b[1;33m\u001b[0m\u001b[1;33m\u001b[0m\u001b[0m\n\u001b[0m",
            "\u001b[1;31mNameError\u001b[0m: name 'featureLinks' is not defined"
          ]
        }
      ],
      "source": [
        "featureLinks"
      ]
    },
    {
      "cell_type": "code",
      "execution_count": null,
      "metadata": {
        "id": "EK0Hl8iAt0sf",
        "outputId": "fb648a4c-7efd-4dac-eb43-cb6ef3356f5f"
      },
      "outputs": [
        {
          "data": {
            "text/plain": [
              "(1004, 100, 320, 1)"
            ]
          },
          "execution_count": 116,
          "metadata": {},
          "output_type": "execute_result"
        }
      ],
      "source": [
        "image2.shape"
      ]
    },
    {
      "cell_type": "code",
      "execution_count": null,
      "metadata": {
        "id": "0dXXfbbft0sf"
      },
      "outputs": [],
      "source": [
        "plt.imshow(resimage[0])"
      ]
    },
    {
      "cell_type": "code",
      "execution_count": null,
      "metadata": {
        "id": "mn6teHsgt0sf"
      },
      "outputs": [],
      "source": [
        "selected"
      ]
    },
    {
      "cell_type": "code",
      "execution_count": null,
      "metadata": {
        "id": "yoavYM2rt0sf"
      },
      "outputs": [],
      "source": [
        "random.choice(featureLinks).reshape(1000,4)"
      ]
    },
    {
      "cell_type": "code",
      "execution_count": null,
      "metadata": {
        "id": "HWPFnvVRt0sf",
        "outputId": "aaa27007-b88f-4994-fd88-24c8f34d9a89"
      },
      "outputs": [
        {
          "data": {
            "image/png": "[encoded data removed]",
            "text/plain": [
              "<PIL.Image.Image image mode=L size=120x60 at 0x1001D908>"
            ]
          },
          "execution_count": 16,
          "metadata": {},
          "output_type": "execute_result"
        }
      ],
      "source": [
        "Image.open('C:\\\\Users\\\\user\\\\AI Class\\\\SmallRealTrainingData\\\\IMG\\\\center_2019_06_24_11_03_07_622.jpg').convert(\"L\").resize((120, 60), resample=Image.BILINEAR)"
      ]
    },
    {
      "cell_type": "code",
      "execution_count": null,
      "metadata": {
        "id": "PlzJsZKnt0sg",
        "outputId": "7b91cd94-7375-43dc-8498-3638539a1c92"
      },
      "outputs": [
        {
          "name": "stderr",
          "output_type": "stream",
          "text": [
            "WARNING: Logging before flag parsing goes to stderr.\n",
            "W0626 09:05:29.393287  2444 deprecation_wrapper.py:119] From C:\\Users\\user\\Anaconda3\\lib\\site-packages\\keras\\backend\\tensorflow_backend.py:74: The name tf.get_default_graph is deprecated. Please use tf.compat.v1.get_default_graph instead.\n",
            "\n"
          ]
        }
      ],
      "source": [
        "ai = Sequential()"
      ]
    },
    {
      "cell_type": "code",
      "execution_count": null,
      "metadata": {
        "id": "m5gKPr-ht0sg",
        "outputId": "6d637239-c9f5-4b9f-f3a0-d102c0054392"
      },
      "outputs": [
        {
          "name": "stderr",
          "output_type": "stream",
          "text": [
            "W0626 09:05:32.863486  2444 deprecation_wrapper.py:119] From C:\\Users\\user\\Anaconda3\\lib\\site-packages\\keras\\backend\\tensorflow_backend.py:517: The name tf.placeholder is deprecated. Please use tf.compat.v1.placeholder instead.\n",
            "\n",
            "W0626 09:05:32.878487  2444 deprecation_wrapper.py:119] From C:\\Users\\user\\Anaconda3\\lib\\site-packages\\keras\\backend\\tensorflow_backend.py:4138: The name tf.random_uniform is deprecated. Please use tf.random.uniform instead.\n",
            "\n",
            "W0626 09:05:32.937490  2444 deprecation_wrapper.py:119] From C:\\Users\\user\\Anaconda3\\lib\\site-packages\\keras\\backend\\tensorflow_backend.py:3976: The name tf.nn.max_pool is deprecated. Please use tf.nn.max_pool2d instead.\n",
            "\n",
            "W0626 09:05:33.204505  2444 deprecation_wrapper.py:119] From C:\\Users\\user\\Anaconda3\\lib\\site-packages\\keras\\backend\\tensorflow_backend.py:133: The name tf.placeholder_with_default is deprecated. Please use tf.compat.v1.placeholder_with_default instead.\n",
            "\n",
            "W0626 09:05:33.229506  2444 deprecation.py:506] From C:\\Users\\user\\Anaconda3\\lib\\site-packages\\keras\\backend\\tensorflow_backend.py:3445: calling dropout (from tensorflow.python.ops.nn_ops) with keep_prob is deprecated and will be removed in a future version.\n",
            "Instructions for updating:\n",
            "Please use `rate` instead of `keep_prob`. Rate should be set to `rate = 1 - keep_prob`.\n"
          ]
        }
      ],
      "source": [
        "ai.add(layers.Conv2D(500, kernel_size=(3,3), input_shape=(100,320,1)))\n",
        "ai.add(layers.MaxPooling2D((2,2)))\n",
        "ai.add(layers.Conv2D(500, kernel_size=(3,3)))\n",
        "ai.add(layers.MaxPooling2D((2,2)))\n",
        "ai.add(layers.Conv2D(300, kernel_size=(3,3)))\n",
        "ai.add(layers.MaxPooling2D((2,2)))\n",
        "ai.add(layers.Conv2D(200, kernel_size=(3,3)))\n",
        "ai.add(layers.MaxPooling2D((2,2)))\n",
        "ai.add(layers.Conv2D(150, kernel_size=(3,3)))\n",
        "ai.add(layers.MaxPooling2D((2,2)))\n",
        "ai.add(layers.Flatten())\n",
        "ai.add(layers.Dropout(0.5))\n",
        "ai.add(layers.Dense(200, activation='linear')) #c\n",
        "ai.add(layers.Dropout(0.5))\n",
        "ai.add(layers.Dense(100, activation='linear')) #c\n",
        "ai.add(layers.Dropout(0.5))\n",
        "ai.add(layers.Dense(50, activation='linear')) #c\n",
        "ai.add(layers.Dropout(0.5))\n",
        "ai.add(layers.Dense(20, activation='linear')) #c\n",
        "ai.add(layers.Dropout(0.5))\n",
        "ai.add(layers.Dense(4, activation='linear')) #c\n"
      ]
    },
    {
      "cell_type": "code",
      "execution_count": null,
      "metadata": {
        "id": "PDL1StkRt0sg",
        "outputId": "b3005d08-e1eb-4e9c-9a1c-87aa8286804f"
      },
      "outputs": [
        {
          "name": "stderr",
          "output_type": "stream",
          "text": [
            "W0626 09:05:35.381630  2444 deprecation_wrapper.py:119] From C:\\Users\\user\\Anaconda3\\lib\\site-packages\\keras\\optimizers.py:790: The name tf.train.Optimizer is deprecated. Please use tf.compat.v1.train.Optimizer instead.\n",
            "\n"
          ]
        }
      ],
      "source": [
        "ai.compile(optimizer='adam',\n",
        "                loss='mean_squared_error',\n",
        "                metrics=['accuracy'])\n"
      ]
    },
    {
      "cell_type": "code",
      "execution_count": null,
      "metadata": {
        "scrolled": true,
        "id": "8ZiqQ2o1t0sg",
        "outputId": "89e6f41d-935e-4cc3-ce5d-94eb176a7f07"
      },
      "outputs": [
        {
          "name": "stderr",
          "output_type": "stream",
          "text": [
            "W0626 09:05:38.885830  2444 deprecation_wrapper.py:119] From C:\\Users\\user\\Anaconda3\\lib\\site-packages\\keras\\backend\\tensorflow_backend.py:986: The name tf.assign_add is deprecated. Please use tf.compat.v1.assign_add instead.\n",
            "\n"
          ]
        },
        {
          "name": "stdout",
          "output_type": "stream",
          "text": [
            "Epoch 1/3\n",
            "   5/1004 [..............................] - ETA: 1:08:34 - loss: 39163.5703 - acc: 0.4000"
          ]
        },
        {
          "ename": "KeyboardInterrupt",
          "evalue": "",
          "output_type": "error",
          "traceback": [
            "\u001b[1;31m---------------------------------------------------------------------------\u001b[0m",
            "\u001b[1;31mKeyboardInterrupt\u001b[0m                         Traceback (most recent call last)",
            "\u001b[1;32m<ipython-input-11-1e0883eb182a>\u001b[0m in \u001b[0;36m<module>\u001b[1;34m\u001b[0m\n\u001b[1;32m----> 1\u001b[1;33m \u001b[0mai\u001b[0m\u001b[1;33m.\u001b[0m\u001b[0mfit\u001b[0m\u001b[1;33m(\u001b[0m\u001b[0mimage2\u001b[0m\u001b[1;33m,\u001b[0m\u001b[0mlabels2\u001b[0m\u001b[1;33m,\u001b[0m\u001b[0mepochs\u001b[0m\u001b[1;33m=\u001b[0m\u001b[1;36m3\u001b[0m\u001b[1;33m,\u001b[0m\u001b[0mbatch_size\u001b[0m\u001b[1;33m=\u001b[0m\u001b[1;36m5\u001b[0m\u001b[1;33m)\u001b[0m\u001b[1;33m\u001b[0m\u001b[1;33m\u001b[0m\u001b[0m\n\u001b[0m",
            "\u001b[1;32m~\\Anaconda3\\lib\\site-packages\\keras\\engine\\training.py\u001b[0m in \u001b[0;36mfit\u001b[1;34m(self, x, y, batch_size, epochs, verbose, callbacks, validation_split, validation_data, shuffle, class_weight, sample_weight, initial_epoch, steps_per_epoch, validation_steps, **kwargs)\u001b[0m\n\u001b[0;32m   1037\u001b[0m                                         \u001b[0minitial_epoch\u001b[0m\u001b[1;33m=\u001b[0m\u001b[0minitial_epoch\u001b[0m\u001b[1;33m,\u001b[0m\u001b[1;33m\u001b[0m\u001b[1;33m\u001b[0m\u001b[0m\n\u001b[0;32m   1038\u001b[0m                                         \u001b[0msteps_per_epoch\u001b[0m\u001b[1;33m=\u001b[0m\u001b[0msteps_per_epoch\u001b[0m\u001b[1;33m,\u001b[0m\u001b[1;33m\u001b[0m\u001b[1;33m\u001b[0m\u001b[0m\n\u001b[1;32m-> 1039\u001b[1;33m                                         validation_steps=validation_steps)\n\u001b[0m\u001b[0;32m   1040\u001b[0m \u001b[1;33m\u001b[0m\u001b[0m\n\u001b[0;32m   1041\u001b[0m     def evaluate(self, x=None, y=None,\n",
            "\u001b[1;32m~\\Anaconda3\\lib\\site-packages\\keras\\engine\\training_arrays.py\u001b[0m in \u001b[0;36mfit_loop\u001b[1;34m(model, f, ins, out_labels, batch_size, epochs, verbose, callbacks, val_f, val_ins, shuffle, callback_metrics, initial_epoch, steps_per_epoch, validation_steps)\u001b[0m\n\u001b[0;32m    197\u001b[0m                     \u001b[0mins_batch\u001b[0m\u001b[1;33m[\u001b[0m\u001b[0mi\u001b[0m\u001b[1;33m]\u001b[0m \u001b[1;33m=\u001b[0m \u001b[0mins_batch\u001b[0m\u001b[1;33m[\u001b[0m\u001b[0mi\u001b[0m\u001b[1;33m]\u001b[0m\u001b[1;33m.\u001b[0m\u001b[0mtoarray\u001b[0m\u001b[1;33m(\u001b[0m\u001b[1;33m)\u001b[0m\u001b[1;33m\u001b[0m\u001b[1;33m\u001b[0m\u001b[0m\n\u001b[0;32m    198\u001b[0m \u001b[1;33m\u001b[0m\u001b[0m\n\u001b[1;32m--> 199\u001b[1;33m                 \u001b[0mouts\u001b[0m \u001b[1;33m=\u001b[0m \u001b[0mf\u001b[0m\u001b[1;33m(\u001b[0m\u001b[0mins_batch\u001b[0m\u001b[1;33m)\u001b[0m\u001b[1;33m\u001b[0m\u001b[1;33m\u001b[0m\u001b[0m\n\u001b[0m\u001b[0;32m    200\u001b[0m                 \u001b[0mouts\u001b[0m \u001b[1;33m=\u001b[0m \u001b[0mto_list\u001b[0m\u001b[1;33m(\u001b[0m\u001b[0mouts\u001b[0m\u001b[1;33m)\u001b[0m\u001b[1;33m\u001b[0m\u001b[1;33m\u001b[0m\u001b[0m\n\u001b[0;32m    201\u001b[0m                 \u001b[1;32mfor\u001b[0m \u001b[0ml\u001b[0m\u001b[1;33m,\u001b[0m \u001b[0mo\u001b[0m \u001b[1;32min\u001b[0m \u001b[0mzip\u001b[0m\u001b[1;33m(\u001b[0m\u001b[0mout_labels\u001b[0m\u001b[1;33m,\u001b[0m \u001b[0mouts\u001b[0m\u001b[1;33m)\u001b[0m\u001b[1;33m:\u001b[0m\u001b[1;33m\u001b[0m\u001b[1;33m\u001b[0m\u001b[0m\n",
            "\u001b[1;32m~\\Anaconda3\\lib\\site-packages\\keras\\backend\\tensorflow_backend.py\u001b[0m in \u001b[0;36m__call__\u001b[1;34m(self, inputs)\u001b[0m\n\u001b[0;32m   2713\u001b[0m                 \u001b[1;32mreturn\u001b[0m \u001b[0mself\u001b[0m\u001b[1;33m.\u001b[0m\u001b[0m_legacy_call\u001b[0m\u001b[1;33m(\u001b[0m\u001b[0minputs\u001b[0m\u001b[1;33m)\u001b[0m\u001b[1;33m\u001b[0m\u001b[1;33m\u001b[0m\u001b[0m\n\u001b[0;32m   2714\u001b[0m \u001b[1;33m\u001b[0m\u001b[0m\n\u001b[1;32m-> 2715\u001b[1;33m             \u001b[1;32mreturn\u001b[0m \u001b[0mself\u001b[0m\u001b[1;33m.\u001b[0m\u001b[0m_call\u001b[0m\u001b[1;33m(\u001b[0m\u001b[0minputs\u001b[0m\u001b[1;33m)\u001b[0m\u001b[1;33m\u001b[0m\u001b[1;33m\u001b[0m\u001b[0m\n\u001b[0m\u001b[0;32m   2716\u001b[0m         \u001b[1;32melse\u001b[0m\u001b[1;33m:\u001b[0m\u001b[1;33m\u001b[0m\u001b[1;33m\u001b[0m\u001b[0m\n\u001b[0;32m   2717\u001b[0m             \u001b[1;32mif\u001b[0m \u001b[0mpy_any\u001b[0m\u001b[1;33m(\u001b[0m\u001b[0mis_tensor\u001b[0m\u001b[1;33m(\u001b[0m\u001b[0mx\u001b[0m\u001b[1;33m)\u001b[0m \u001b[1;32mfor\u001b[0m \u001b[0mx\u001b[0m \u001b[1;32min\u001b[0m \u001b[0minputs\u001b[0m\u001b[1;33m)\u001b[0m\u001b[1;33m:\u001b[0m\u001b[1;33m\u001b[0m\u001b[1;33m\u001b[0m\u001b[0m\n",
            "\u001b[1;32m~\\Anaconda3\\lib\\site-packages\\keras\\backend\\tensorflow_backend.py\u001b[0m in \u001b[0;36m_call\u001b[1;34m(self, inputs)\u001b[0m\n\u001b[0;32m   2673\u001b[0m             \u001b[0mfetched\u001b[0m \u001b[1;33m=\u001b[0m \u001b[0mself\u001b[0m\u001b[1;33m.\u001b[0m\u001b[0m_callable_fn\u001b[0m\u001b[1;33m(\u001b[0m\u001b[1;33m*\u001b[0m\u001b[0marray_vals\u001b[0m\u001b[1;33m,\u001b[0m \u001b[0mrun_metadata\u001b[0m\u001b[1;33m=\u001b[0m\u001b[0mself\u001b[0m\u001b[1;33m.\u001b[0m\u001b[0mrun_metadata\u001b[0m\u001b[1;33m)\u001b[0m\u001b[1;33m\u001b[0m\u001b[1;33m\u001b[0m\u001b[0m\n\u001b[0;32m   2674\u001b[0m         \u001b[1;32melse\u001b[0m\u001b[1;33m:\u001b[0m\u001b[1;33m\u001b[0m\u001b[1;33m\u001b[0m\u001b[0m\n\u001b[1;32m-> 2675\u001b[1;33m             \u001b[0mfetched\u001b[0m \u001b[1;33m=\u001b[0m \u001b[0mself\u001b[0m\u001b[1;33m.\u001b[0m\u001b[0m_callable_fn\u001b[0m\u001b[1;33m(\u001b[0m\u001b[1;33m*\u001b[0m\u001b[0marray_vals\u001b[0m\u001b[1;33m)\u001b[0m\u001b[1;33m\u001b[0m\u001b[1;33m\u001b[0m\u001b[0m\n\u001b[0m\u001b[0;32m   2676\u001b[0m         \u001b[1;32mreturn\u001b[0m \u001b[0mfetched\u001b[0m\u001b[1;33m[\u001b[0m\u001b[1;33m:\u001b[0m\u001b[0mlen\u001b[0m\u001b[1;33m(\u001b[0m\u001b[0mself\u001b[0m\u001b[1;33m.\u001b[0m\u001b[0moutputs\u001b[0m\u001b[1;33m)\u001b[0m\u001b[1;33m]\u001b[0m\u001b[1;33m\u001b[0m\u001b[1;33m\u001b[0m\u001b[0m\n\u001b[0;32m   2677\u001b[0m \u001b[1;33m\u001b[0m\u001b[0m\n",
            "\u001b[1;32m~\\Anaconda3\\lib\\site-packages\\tensorflow\\python\\client\\session.py\u001b[0m in \u001b[0;36m__call__\u001b[1;34m(self, *args, **kwargs)\u001b[0m\n\u001b[0;32m   1456\u001b[0m         ret = tf_session.TF_SessionRunCallable(self._session._session,\n\u001b[0;32m   1457\u001b[0m                                                \u001b[0mself\u001b[0m\u001b[1;33m.\u001b[0m\u001b[0m_handle\u001b[0m\u001b[1;33m,\u001b[0m \u001b[0margs\u001b[0m\u001b[1;33m,\u001b[0m\u001b[1;33m\u001b[0m\u001b[1;33m\u001b[0m\u001b[0m\n\u001b[1;32m-> 1458\u001b[1;33m                                                run_metadata_ptr)\n\u001b[0m\u001b[0;32m   1459\u001b[0m         \u001b[1;32mif\u001b[0m \u001b[0mrun_metadata\u001b[0m\u001b[1;33m:\u001b[0m\u001b[1;33m\u001b[0m\u001b[1;33m\u001b[0m\u001b[0m\n\u001b[0;32m   1460\u001b[0m           \u001b[0mproto_data\u001b[0m \u001b[1;33m=\u001b[0m \u001b[0mtf_session\u001b[0m\u001b[1;33m.\u001b[0m\u001b[0mTF_GetBuffer\u001b[0m\u001b[1;33m(\u001b[0m\u001b[0mrun_metadata_ptr\u001b[0m\u001b[1;33m)\u001b[0m\u001b[1;33m\u001b[0m\u001b[1;33m\u001b[0m\u001b[0m\n",
            "\u001b[1;31mKeyboardInterrupt\u001b[0m: "
          ]
        }
      ],
      "source": [
        "ai.fit(image2,labels2,epochs=3,batch_size=5)"
      ]
    },
    {
      "cell_type": "code",
      "execution_count": null,
      "metadata": {
        "scrolled": true,
        "id": "dDP6Jcdpt0sg"
      },
      "outputs": [],
      "source": [
        "ai.save(\"drivingModel\")"
      ]
    },
    {
      "cell_type": "code",
      "execution_count": null,
      "metadata": {
        "id": "jIrX-lWut0sg",
        "outputId": "4095d6de-96f4-40a5-e6db-dca0211d083f"
      },
      "outputs": [
        {
          "data": {
            "text/plain": [
              "<matplotlib.image.AxesImage at 0x18717390>"
            ]
          },
          "execution_count": 83,
          "metadata": {},
          "output_type": "execute_result"
        },
        {
          "data": {
            "image/png": "[encoded data removed]",
            "text/plain": [
              "<Figure size 432x288 with 1 Axes>"
            ]
          },
          "metadata": {
            "needs_background": "light"
          },
          "output_type": "display_data"
        }
      ],
      "source": [
        "import matplotlib.pyplot as plt\n",
        "plt.imshow(image2[0,:,:,0])"
      ]
    },
    {
      "cell_type": "code",
      "execution_count": null,
      "metadata": {
        "id": "nqUD_2d1t0sh"
      },
      "outputs": [],
      "source": []
    }
  ],
  "metadata": {
    "kernelspec": {
      "display_name": "Python 3",
      "language": "python",
      "name": "python3"
    },
    "language_info": {
      "codemirror_mode": {
        "name": "ipython",
        "version": 3
      },
      "file_extension": ".py",
      "mimetype": "text/x-python",
      "name": "python",
      "nbconvert_exporter": "python",
      "pygments_lexer": "ipython3",
      "version": "3.7.3"
    },
    "colab": {
      "provenance": []
    }
  },
  "nbformat": 4,
  "nbformat_minor": 0
}